{
 "cells": [
  {
   "cell_type": "code",
   "execution_count": 1,
   "metadata": {},
   "outputs": [
    {
     "name": "stderr",
     "output_type": "stream",
     "text": [
      "objc[72026]: Class QT_ROOT_LEVEL_POOL__THESE_OBJECTS_WILL_BE_RELEASED_WHEN_QAPP_GOES_OUT_OF_SCOPE is implemented in both /Users/sjwong/miniconda3/envs/density_env/lib/libQt5Core.5.15.15.dylib (0x11e4252f8) and /Users/sjwong/miniconda3/envs/density_env/lib/libQt6Core.6.7.2.dylib (0x145f69558). One of the two will be used. Which one is undefined.\n",
      "objc[72026]: Class KeyValueObserver is implemented in both /Users/sjwong/miniconda3/envs/density_env/lib/libQt5Core.5.15.15.dylib (0x11e425320) and /Users/sjwong/miniconda3/envs/density_env/lib/libQt6Core.6.7.2.dylib (0x145f69580). One of the two will be used. Which one is undefined.\n",
      "objc[72026]: Class RunLoopModeTracker is implemented in both /Users/sjwong/miniconda3/envs/density_env/lib/libQt5Core.5.15.15.dylib (0x11e425370) and /Users/sjwong/miniconda3/envs/density_env/lib/libQt6Core.6.7.2.dylib (0x145f695d0). One of the two will be used. Which one is undefined.\n"
     ]
    }
   ],
   "source": [
    "import nibabel as nib\n",
    "import numpy as np\n",
    "from scipy.ndimage import sobel, gaussian_filter\n",
    "from mayavi import mlab\n",
    "import matplotlib.pyplot as plt\n",
    "\n",
    "\n",
    "# Load the NIfTI file\n",
    "nii_file = 'brain.nii.gz'\n",
    "img = nib.load(nii_file)\n",
    "\n",
    "# Get the voxel data as a NumPy array\n",
    "data = img.get_fdata()\n",
    "\n",
    "# Smooth the data to reduce noise \n",
    "data_smoothed = gaussian_filter(data, sigma=1)\n",
    "\n",
    "# Normalize the data\n",
    "data_normalized = (data_smoothed - np.min(data_smoothed)) / (np.max(data_smoothed) - np.min(data_smoothed))\n",
    "\n",
    "# Compute Sobel gradients in x, y, and z directions\n",
    "sobel_x = sobel(data_normalized, axis=0)  \n",
    "sobel_y = sobel(data_normalized, axis=1)  \n",
    "sobel_z = sobel(data_normalized, axis=2) \n",
    "\n",
    "# Compute gradient magnitude\n",
    "gradient_magnitude = np.sqrt(sobel_x**2 + sobel_y**2 + sobel_z**2)"
   ]
  },
  {
   "cell_type": "code",
   "execution_count": null,
   "metadata": {},
   "outputs": [
    {
     "data": {
      "image/png": "[encoded data removed]",
      "text/plain": [
       "<Figure size 640x480 with 1 Axes>"
      ]
     },
     "metadata": {},
     "output_type": "display_data"
    }
   ],
   "source": [
    "plt.hist(gradient_magnitude.flatten(), bins=100, log=True)\n",
    "plt.title(\"Gradient Magnitude Distribution\")\n",
    "plt.xlabel(\"Gradient Magnitude\")\n",
    "plt.ylabel(\"Frequency\")\n",
    "plt.show()"
   ]
  },
  {
   "cell_type": "code",
   "execution_count": 3,
   "metadata": {},
   "outputs": [
    {
     "name": "stdout",
     "output_type": "stream",
     "text": [
      "Gradient magnitude min: 0.0\n",
      "Gradient magnitude max: 11.053035246167925\n",
      "Low threshold (non-zero): 0.0038335024853794414\n",
      "High threshold (non-zero): 0.5034569085242393\n",
      "Zero-density voxel count: 324675\n",
      "Low-density voxel count: 78413\n",
      "High-density voxel count: 431269\n",
      "Combined mask unique values: [0. 1. 2.]\n"
     ]
    }
   ],
   "source": [
    "# Adjust threshold calculation to exclude zero values\n",
    "non_zero_gradients = gradient_magnitude[gradient_magnitude > 0]\n",
    "low_threshold = np.percentile(non_zero_gradients, 10)  # Lower 10% of non-zero gradients\n",
    "high_threshold = np.percentile(non_zero_gradients, 45)  # Upper 10% of non-zero gradients\n",
    "\n",
    "print(\"Gradient magnitude min:\", np.min(gradient_magnitude))\n",
    "print(\"Gradient magnitude max:\", np.max(gradient_magnitude))\n",
    "print(\"Low threshold (non-zero):\", low_threshold)\n",
    "print(\"High threshold (non-zero):\", high_threshold)\n",
    "\n",
    "# Create masks for zero-density, low-density, and high-density regions\n",
    "zero_density_mask = gradient_magnitude == 0\n",
    "low_density_mask = (gradient_magnitude > 0) & (gradient_magnitude < low_threshold)\n",
    "high_density_mask = gradient_magnitude > high_threshold\n",
    "\n",
    "print(\"Zero-density voxel count:\", np.sum(zero_density_mask))\n",
    "print(\"Low-density voxel count:\", np.sum(low_density_mask))\n",
    "print(\"High-density voxel count:\", np.sum(high_density_mask))\n",
    "\n",
    "# Combine masks into a single array\n",
    "# Identify regions with 0 gradient magnitude, which is background and uniform areas\n",
    "combined_mask = np.zeros_like(gradient_magnitude, dtype=np.float32)\n",
    "combined_mask[low_density_mask] = 1 \n",
    "combined_mask[high_density_mask] = 2 \n",
    "\n",
    "print(\"Combined mask unique values:\", np.unique(combined_mask))\n"
   ]
  },
  {
   "cell_type": "code",
   "execution_count": null,
   "metadata": {},
   "outputs": [],
   "source": [
    "# zero-density: blue\n",
    "mlab.contour3d((combined_mask == 0).astype(np.float32), color=(0, 0, 1), opacity=1) \n",
    "# low-density: blue\n",
    "mlab.contour3d((combined_mask == 1).astype(np.float32), color=(1, 1, 0), opacity=1) \n",
    "# high-density: red\n",
    "mlab.contour3d((combined_mask == 2).astype(np.float32), color=(1, 0, 0), opacity=1)  \n",
    "\n",
    "mlab.title('Low- and High-Density Areas (Blue: Zero, Yellow: Low, Red: High)')\n",
    "mlab.show()"
   ]
  }
 ],
 "metadata": {
  "kernelspec": {
   "display_name": "density_env",
   "language": "python",
   "name": "python3"
  },
  "language_info": {
   "codemirror_mode": {
    "name": "ipython",
    "version": 3
   },
   "file_extension": ".py",
   "mimetype": "text/x-python",
   "name": "python",
   "nbconvert_exporter": "python",
   "pygments_lexer": "ipython3",
   "version": "3.9.18"
  }
 },
 "nbformat": 4,
 "nbformat_minor": 4
}
